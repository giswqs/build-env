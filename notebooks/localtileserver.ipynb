{
 "cells": [
  {
   "cell_type": "code",
   "execution_count": null,
   "id": "059704da-1b42-4699-ad8f-b54ac9438de8",
   "metadata": {
    "tags": []
   },
   "outputs": [],
   "source": [
    "# Set host forwarding for MyBinder\n",
    "import os\n",
    "os.environ['LOCALTILESERVER_CLIENT_PREFIX'] = f\"{os.environ['JUPYTERHUB_SERVICE_PREFIX']}/proxy/{{port}}\""
   ]
  },
  {
   "cell_type": "code",
   "execution_count": null,
   "id": "b2949cec-fdf9-4e56-90c1-f866150bf1f2",
   "metadata": {},
   "outputs": [],
   "source": [
    "from localtileserver import examples, get_leaflet_tile_layer\n",
    "from ipyleaflet import Map"
   ]
  },
  {
   "cell_type": "code",
   "execution_count": null,
   "id": "f60bf4fb-43b8-45d5-a2cd-6fa21d0806ef",
   "metadata": {},
   "outputs": [],
   "source": [
    "# First, create a tile server from local raster file\n",
    "tile_client = examples.get_bahamas()"
   ]
  },
  {
   "cell_type": "code",
   "execution_count": null,
   "id": "a6ab6436-f89f-4ac2-bbde-1f231a561a9b",
   "metadata": {},
   "outputs": [],
   "source": [
    "# Create ipyleaflet tile layer from that server\n",
    "t = get_leaflet_tile_layer(tile_client)\n",
    "\n",
    "# Create ipyleaflet map, add layers, add controls, and display\n",
    "m = Map(center=tile_client.center(), zoom=8)\n",
    "m.add_layer(t)\n",
    "m"
   ]
  }
 ],
 "metadata": {
  "kernelspec": {
   "display_name": "Python 3",
   "language": "python",
   "name": "python3"
  },
  "language_info": {
   "codemirror_mode": {
    "name": "ipython",
    "version": 3
   },
   "file_extension": ".py",
   "mimetype": "text/x-python",
   "name": "python",
   "nbconvert_exporter": "python",
   "pygments_lexer": "ipython3",
   "version": "3.9.9"
  }
 },
 "nbformat": 4,
 "nbformat_minor": 5
}
